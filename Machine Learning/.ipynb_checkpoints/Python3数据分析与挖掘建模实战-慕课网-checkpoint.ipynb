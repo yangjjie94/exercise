{
 "cells": [
  {
   "cell_type": "markdown",
   "metadata": {},
   "source": [
    "# Content\n",
    "1. [第一章](#intro)\n",
    "    1. []()\n",
    "2. [diorvh](#)\n",
    "\n",
    "# Python3数据分析与挖掘建模实战-慕课网 \n",
    "\n",
    "## 第一章<a name=\"chap2\"></a>\n",
    "\n",
    "&copy;\n",
    "> 但老A级发\n",
    "\n",
    "- 扥甲A老f;\n",
    "- 姜娜;\n",
    "- 但法令\n",
    "\n",
    "积分大龄就\n",
    "\n",
    "*   Bird\n",
    "*   Magic\n",
    "\n",
    "坑Al;k\n",
    "\n",
    "*   Bird\n",
    "\n",
    "*   Magic\n",
    "\n",
    "就法令经 \n",
    "\n",
    "1.  This is a list item with two paragraphs. Lorem ipsum dolor\n",
    "    sit amet, consectetuer adipiscing elit. Aliquam hendrerit\n",
    "    mi posuere lectus.\n",
    "\n",
    "    Vestibulum enim wisi, viverra nec, fringilla in, laoreet\n",
    "    vitae, risus. Donec sit amet nisl. Aliquam semper ipsum\n",
    "    sit amet velit.\n",
    "\n",
    "2.  Suspendisse id sem consectetuer libero luctus adipiscing.\n",
    "\n",
    "Django；\n",
    "This is [an example](http://example.com/ \"Title\") inline link.\n",
    "\n",
    "[This link](http://example.net/) has no title attribute.\n",
    "\n",
    "A single backtick in a code span: `` ` ``\n",
    "\n",
    "A backtick-delimited string in a code span: `` `foo` `` ，`foo`\n",
    "\n",
    "<address@example.com>"
   ]
  },
  {
   "cell_type": "code",
   "execution_count": null,
   "metadata": {},
   "outputs": [],
   "source": []
  },
  {
   "cell_type": "code",
   "execution_count": null,
   "metadata": {},
   "outputs": [],
   "source": []
  },
  {
   "cell_type": "markdown",
   "metadata": {},
   "source": [
    "# 第2章 <a name=\"chap2\"></a>"
   ]
  },
  {
   "cell_type": "code",
   "execution_count": null,
   "metadata": {},
   "outputs": [],
   "source": []
  }
 ],
 "metadata": {
  "kernelspec": {
   "display_name": "Python 3",
   "language": "python",
   "name": "python3"
  },
  "language_info": {
   "codemirror_mode": {
    "name": "ipython",
    "version": 3
   },
   "file_extension": ".py",
   "mimetype": "text/x-python",
   "name": "python",
   "nbconvert_exporter": "python",
   "pygments_lexer": "ipython3",
   "version": "3.6.2"
  }
 },
 "nbformat": 4,
 "nbformat_minor": 2
}
