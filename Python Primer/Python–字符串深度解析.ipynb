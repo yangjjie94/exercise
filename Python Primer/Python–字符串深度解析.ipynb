{
 "cells": [
  {
   "cell_type": "markdown",
   "metadata": {},
   "source": [
    "# Python–字符串深度解析\n",
    "[链接](http://www.magedu.com/74716.html)\n",
    "## 创建、赋值和访问\n",
    "### 1. 两种创建方式\n",
    "- 直接创建\n",
    "- 通过`str()`创建 "
   ]
  },
  {
   "cell_type": "code",
   "execution_count": 5,
   "metadata": {},
   "outputs": [
    {
     "data": {
      "text/plain": [
       "'[1, 2, 3]'"
      ]
     },
     "execution_count": 5,
     "metadata": {},
     "output_type": "execute_result"
    }
   ],
   "source": [
    "s = str([1, 2, 3])\n",
    "s"
   ]
  },
  {
   "cell_type": "code",
   "execution_count": 6,
   "metadata": {},
   "outputs": [
    {
     "data": {
      "text/plain": [
       "'[1, 2, 3]'"
      ]
     },
     "execution_count": 6,
     "metadata": {},
     "output_type": "execute_result"
    }
   ],
   "source": [
    "alist = [1, 2, 3]\n",
    "s = str(alist)\n",
    "s"
   ]
  },
  {
   "cell_type": "markdown",
   "metadata": {},
   "source": [
    "### 2. 访问字符串\n",
    "用索引访问单个字符，存在负索引\n",
    "切片，切片有3个参数控制，他的形式可以如下表示：[begin: end: step]\n",
    "负切片"
   ]
  },
  {
   "cell_type": "code",
   "execution_count": null,
   "metadata": {},
   "outputs": [],
   "source": []
  },
  {
   "cell_type": "markdown",
   "metadata": {},
   "source": [
    "## 字符串的操作符\n",
    "- 成员：`in` or `not in`\n",
    "- 连接： +\n",
    "- 重复： \\*\n",
    "- 比较： >, < ,etc\n",
    "- "
   ]
  },
  {
   "cell_type": "code",
   "execution_count": 7,
   "metadata": {},
   "outputs": [
    {
     "data": {
      "text/plain": [
       "True"
      ]
     },
     "execution_count": 7,
     "metadata": {},
     "output_type": "execute_result"
    }
   ],
   "source": [
    "s = \"abcdefg\"\n",
    "\"ef\" in s"
   ]
  },
  {
   "cell_type": "code",
   "execution_count": 8,
   "metadata": {},
   "outputs": [
    {
     "data": {
      "text/plain": [
       "False"
      ]
     },
     "execution_count": 8,
     "metadata": {},
     "output_type": "execute_result"
    }
   ],
   "source": [
    "\"fe\" not in s"
   ]
  },
  {
   "cell_type": "markdown",
   "metadata": {},
   "source": [
    "## 字符串的内建函数\n",
    "- 字符串长度：`len`\n",
    "- 字符串最大最小值（ascii码）\n",
    "- `enumerate` and `zip`\n",
    "- 字符串查找：`find()` 和 `index()` \n",
    "- 字符串判别：`string.isalnum()`判断都是字母或数字，`string.isalpha()` string中所有字符都是字母，`string.isdigit()` string中所有字符都是数字，`string.isupper()` string中所有字母都是大写\n",
    "- 字符串替换：`string.replace() ` 用后面的替换前面\n",
    "- 字符串分割：`string.split()`; `string.partition()`; `string.join()`\n",
    "- 大小写转换：`string.upper()`，`string.lower()`，`string.swapcase()`大小写互换.注意的是，这其实只是生成了一个新的对象，而原对象并未发生改变\n",
    "- 字符串简化：`string.strip()`\n"
   ]
  },
  {
   "cell_type": "code",
   "execution_count": 9,
   "metadata": {},
   "outputs": [
    {
     "name": "stdout",
     "output_type": "stream",
     "text": [
      "0 a\n",
      "1 b\n",
      "2 c\n",
      "3 d\n"
     ]
    }
   ],
   "source": [
    "for index, ele in enumerate(\"abcd\"):\n",
    "    print(index, ele)"
   ]
  },
  {
   "cell_type": "code",
   "execution_count": 10,
   "metadata": {},
   "outputs": [
    {
     "name": "stdout",
     "output_type": "stream",
     "text": [
      "('a', '1')\n",
      "('b', '2')\n",
      "('c', '3')\n",
      "('d', '4')\n"
     ]
    }
   ],
   "source": [
    "for i in zip(\"abcd\", \"1234\"):\n",
    "    print(i)   "
   ]
  },
  {
   "cell_type": "code",
   "execution_count": 11,
   "metadata": {},
   "outputs": [
    {
     "name": "stdout",
     "output_type": "stream",
     "text": [
      "0\n",
      "-1\n"
     ]
    }
   ],
   "source": [
    "# find() 函数的功能是若找的见，则返回匹配部分最开始的那个位置；若找不见，则返回-1，当然，find() 函数中还可以设置寻找的开始和结束位置。不过字符串的内建函数实在太多，很多函数的参数设置也很细，所以我只是“抛砖引玉”，就不一 一列举了。\n",
    "\n",
    "index() 函数实现的是类似的功能，不过如果找不到的话，引发异常。所以要使用index() 函数最好用成员操作符事先加一条判断语句，若在内，再使用 index() 返回匹配字段的起始位置。\n",
    "s = \"Python\"\n",
    "print(s.find(\"Py\")) # >>> 0\n",
    "print(s.find(\"hy\")) # >>> -1"
   ]
  },
  {
   "cell_type": "code",
   "execution_count": 12,
   "metadata": {},
   "outputs": [
    {
     "name": "stdout",
     "output_type": "stream",
     "text": [
      "1\n"
     ]
    },
    {
     "ename": "ValueError",
     "evalue": "substring not found",
     "output_type": "error",
     "traceback": [
      "\u001b[1;31m---------------------------------------------------------------------------\u001b[0m",
      "\u001b[1;31mValueError\u001b[0m                                Traceback (most recent call last)",
      "\u001b[1;32m<ipython-input-12-1aa60e00a6b9>\u001b[0m in \u001b[0;36m<module>\u001b[1;34m()\u001b[0m\n\u001b[0;32m      2\u001b[0m \u001b[0ms\u001b[0m \u001b[1;33m=\u001b[0m \u001b[1;34m\"Python\"\u001b[0m\u001b[1;33m\u001b[0m\u001b[0m\n\u001b[0;32m      3\u001b[0m \u001b[0mprint\u001b[0m\u001b[1;33m(\u001b[0m\u001b[0ms\u001b[0m\u001b[1;33m.\u001b[0m\u001b[0mindex\u001b[0m\u001b[1;33m(\u001b[0m\u001b[1;34m\"yth\"\u001b[0m\u001b[1;33m)\u001b[0m\u001b[1;33m)\u001b[0m \u001b[1;31m# >>> 1\u001b[0m\u001b[1;33m\u001b[0m\u001b[0m\n\u001b[1;32m----> 4\u001b[1;33m \u001b[0mprint\u001b[0m\u001b[1;33m(\u001b[0m\u001b[0ms\u001b[0m\u001b[1;33m.\u001b[0m\u001b[0mindex\u001b[0m\u001b[1;33m(\u001b[0m\u001b[1;34m\"hy\"\u001b[0m\u001b[1;33m)\u001b[0m\u001b[1;33m)\u001b[0m \u001b[1;31m# >>> 引发异常\u001b[0m\u001b[1;33m\u001b[0m\u001b[0m\n\u001b[0m",
      "\u001b[1;31mValueError\u001b[0m: substring not found"
     ]
    }
   ],
   "source": [
    "# index() 函数实现的是类似的功能，不过如果找不到的话，引发异常。所以要使用index() 函数最好用成员操作符事先加一条判断语句，若在内，再使用 index() 返回匹配字段的起始位置。\n",
    "s = \"Python\"\n",
    "print(s.index(\"yth\")) # >>> 1\n",
    "print(s.index(\"hy\")) # >>> 引发异常"
   ]
  },
  {
   "cell_type": "code",
   "execution_count": 13,
   "metadata": {},
   "outputs": [
    {
     "data": {
      "text/plain": [
       "'123abc'"
      ]
     },
     "execution_count": 13,
     "metadata": {},
     "output_type": "execute_result"
    }
   ],
   "source": [
    "s = \"123456\"\n",
    "s.replace(\"456\", \"abc\") # >>> s = \"123abc\""
   ]
  },
  {
   "cell_type": "code",
   "execution_count": 15,
   "metadata": {},
   "outputs": [
    {
     "data": {
      "text/plain": [
       "['I', 'love', 'you']"
      ]
     },
     "execution_count": 15,
     "metadata": {},
     "output_type": "execute_result"
    }
   ],
   "source": [
    "# string.split()：\n",
    "s = \"I love you\"\n",
    "s.split(\" \") # >>> 以空格为分隔符，将字符串s分割成一个列表：[\"I\", \"love\", \"you\"]"
   ]
  },
  {
   "cell_type": "code",
   "execution_count": 16,
   "metadata": {},
   "outputs": [
    {
     "data": {
      "text/plain": [
       "('I', ' ', 'love you')"
      ]
     },
     "execution_count": 16,
     "metadata": {},
     "output_type": "execute_result"
    }
   ],
   "source": [
    "# string.partition()\n",
    "s = \"I love you\"\n",
    "s.partition(\" \") # >>> 以空格为分隔符，从分隔符出现的第一个位置起，将字符串s分割成一个三个元素的列表：[\"I\", \" \", \"love you\"]"
   ]
  },
  {
   "cell_type": "code",
   "execution_count": 17,
   "metadata": {},
   "outputs": [
    {
     "name": "stdout",
     "output_type": "stream",
     "text": [
      "I,wrote,Python\n",
      "1**2**3\n"
     ]
    }
   ],
   "source": [
    "# string.join()\n",
    "print(\",\".join([\"I\", \"wrote\", \"Python\"])) # >>> \"I,wrote,Python\"\n",
    "print(\"**\".join(\"123\")) # >>> \"1**2**3\""
   ]
  },
  {
   "cell_type": "markdown",
   "metadata": {},
   "source": []
  }
 ],
 "metadata": {
  "kernelspec": {
   "display_name": "Python 3",
   "language": "python",
   "name": "python3"
  },
  "language_info": {
   "codemirror_mode": {
    "name": "ipython",
    "version": 3
   },
   "file_extension": ".py",
   "mimetype": "text/x-python",
   "name": "python",
   "nbconvert_exporter": "python",
   "pygments_lexer": "ipython3",
   "version": "3.6.2"
  }
 },
 "nbformat": 4,
 "nbformat_minor": 2
}
