{
 "cells": [
  {
   "cell_type": "markdown",
   "metadata": {},
   "source": [
    "# 线程 thread\n",
    "Python通过两个标准库thread和threading提供对线程的支持。\n",
    "\n",
    "thread提供了低级别的、原始的线程以及一个简单的锁。"
   ]
  },
  {
   "cell_type": "code",
   "execution_count": 2,
   "metadata": {},
   "outputs": [],
   "source": [
    "import _thread\n",
    "import time\n",
    "\n",
    "# 一个用于在线程中执行的函数\n",
    "def func():\n",
    "    for i in range(5):\n",
    "        print(func)\n",
    "        time.sleep(1)\n",
    "        \n",
    "    # 结束当前线程\n",
    "    # 这个方法与thread.exit_thread()等价\n",
    "    _thread.exit() # 当Func返回时，线程同样会结束\n",
    "\n",
    "\n",
    "\n"
   ]
  },
  {
   "cell_type": "code",
   "execution_count": 3,
   "metadata": {},
   "outputs": [
    {
     "name": "stdout",
     "output_type": "stream",
     "text": [
      "Thread-1: Mon Feb 26 08:54:47 2018\n",
      "Thread-2: Mon Feb 26 08:54:49 2018\n",
      "Thread-1: Mon Feb 26 08:54:49 2018\n",
      "Thread-1: Mon Feb 26 08:54:51 2018\n",
      "Thread-2: Mon Feb 26 08:54:53 2018\n",
      "Thread-1: Mon Feb 26 08:54:53 2018\n",
      "Thread-1: Mon Feb 26 08:54:55 2018\n",
      "Thread-2: Mon Feb 26 08:54:57 2018\n",
      "Thread-2: Mon Feb 26 08:55:01 2018\n",
      "Thread-2: Mon Feb 26 08:55:05 2018\n"
     ]
    }
   ],
   "source": [
    "import _thread\n",
    "import time\n",
    "\n",
    "# 为线程定义一个函数\n",
    "def print_time( threadName, delay):\n",
    "   count = 0\n",
    "   while count < 5:\n",
    "      time.sleep(delay)\n",
    "      count += 1\n",
    "      print(\"%s: %s\" % ( threadName, time.ctime(time.time()) ))\n",
    "\n",
    "# 创建两个线程\n",
    "try:\n",
    "   _thread.start_new_thread( print_time, (\"Thread-1\", 2, ) )\n",
    "   _thread.start_new_thread( print_time, (\"Thread-2\", 4, ) )\n",
    "except:\n",
    "   print (\"Error: 无法启动线程\")"
   ]
  },
  {
   "cell_type": "code",
   "execution_count": null,
   "metadata": {},
   "outputs": [],
   "source": []
  }
 ],
 "metadata": {
  "kernelspec": {
   "display_name": "Python 3",
   "language": "python",
   "name": "python3"
  },
  "language_info": {
   "codemirror_mode": {
    "name": "ipython",
    "version": 3
   },
   "file_extension": ".py",
   "mimetype": "text/x-python",
   "name": "python",
   "nbconvert_exporter": "python",
   "pygments_lexer": "ipython3",
   "version": "3.6.2"
  }
 },
 "nbformat": 4,
 "nbformat_minor": 2
}
