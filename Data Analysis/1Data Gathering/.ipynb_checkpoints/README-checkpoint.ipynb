{
 "cells": [
  {
   "cell_type": "markdown",
   "metadata": {},
   "source": [
    "本页资源来自[慕课网]()的[Python3数据分析与挖掘建模实战项目]()。课程内容包括数据获取，探索分析与可视化、预处理理论、分析建模（分类、回归、聚类、关联、半监督模型）、模型评估五部分。\n",
    "前2部分属于狭义的数据分析，后3部分属于数据挖掘与建模。\n",
    "本文件夹只包含后半部分。"
   ]
  },
  {
   "cell_type": "markdown",
   "metadata": {},
   "source": [
    "数据分析就是利用统计分析方法，在数据中提取有用的信息，总结与概括的过程。\n",
    "乔治·盖洛普 上世纪30年代，《美国文学文摘》发出了1000万份问卷，占选民的1/4，后收到273万份回执，统计后宣布兰登会以55:41的优势击败富兰克林罗斯福赢得大选，而乔治·盖洛普成立的盖勒普就用3000份左右的问卷得出了相反的结果。小数据集战胜了大数据集。这是因为电话、杂志等都是有钱人才能触及到的媒介，罗斯福的政策却是有利于穷人的，穷人的基数比较大。导致大数据集失去了代表性。盖勒普直到今天都是著名的调查机构。\n",
    "TARGET\n",
    "勇士球队\n",
    "推荐系统能提高100%活跃度，30%-50%的成交量\n",
    "> 数据是未来的核心资源。——马云\n",
    "\n",
    "> 未来区分企业规模大小的标准就是数据量的多少。——吴恩达\n",
    "\n",
    "数据分析概述\n",
    "数据获取\n",
    "Python特点：简洁、开发效率高、运算速度快、胶水特性\n",
    "常用库：NumPy, SciPy,matplotlab, scikit-learn, pandas, Keras"
   ]
  },
  {
   "cell_type": "markdown",
   "metadata": {},
   "source": [
    "## 数据获取手段\n",
    "### 数据仓库DW\n",
    "特点\n",
    "1. 记录了全部的事实，全面、完备、尽可能详细\n",
    "2. 部分维度与数据的整理（数据集市DM按需从DW抽取）\n",
    "\n",
    "数据库 vs 数据仓库\n",
    "1. 数据库面向业务存储，数据仓库面向主题存储（）\n",
    "面向业务需要保障高并发、快速读写、数据结构精简，给用户良好的使用体验。\n",
    "面向主题，主题：较高层次上对分析对象数据的一个完整并且一致的描述。比如购买书籍是一个主题，这个仓库就会记录时间、购买人、书籍等多维度的信息。\n",
    "2. 数据库针对应用（OLTP 联机事务处理 online transaction processing），数据仓库针对分析（OLAP 联机分析处理 online analysis processing）\n",
    "3. 数据库组织规范，仓库可能冗余，相对变化大，数据量大\n",
    "\n",
    "### 检测与抓取\n",
    "### 填写、日志、埋点\n",
    "### 计算\n"
   ]
  },
  {
   "cell_type": "code",
   "execution_count": null,
   "metadata": {},
   "outputs": [],
   "source": []
  },
  {
   "cell_type": "code",
   "execution_count": null,
   "metadata": {},
   "outputs": [],
   "source": []
  },
  {
   "cell_type": "code",
   "execution_count": null,
   "metadata": {},
   "outputs": [],
   "source": []
  },
  {
   "cell_type": "code",
   "execution_count": null,
   "metadata": {},
   "outputs": [],
   "source": []
  }
 ],
 "metadata": {
  "kernelspec": {
   "display_name": "Python 3",
   "language": "python",
   "name": "python3"
  },
  "language_info": {
   "codemirror_mode": {
    "name": "ipython",
    "version": 3
   },
   "file_extension": ".py",
   "mimetype": "text/x-python",
   "name": "python",
   "nbconvert_exporter": "python",
   "pygments_lexer": "ipython3",
   "version": "3.6.2"
  }
 },
 "nbformat": 4,
 "nbformat_minor": 2
}
